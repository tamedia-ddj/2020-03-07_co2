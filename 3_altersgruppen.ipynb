{
 "cells": [
  {
   "cell_type": "markdown",
   "metadata": {},
   "source": [
    "# Auswertungen Altersgruppen\n",
    "In diesem Notebook werden die Informationen zum durchschnittlichen CO2-Ausstoss der Autos ausgewertet, die auf Halter bestimmter Altersgruppen registriert sind."
   ]
  },
  {
   "cell_type": "code",
   "execution_count": 20,
   "metadata": {},
   "outputs": [],
   "source": [
    "# Importieren der nötigen Erweiterungen. \n",
    "import pandas as pd"
   ]
  },
  {
   "cell_type": "code",
   "execution_count": 21,
   "metadata": {},
   "outputs": [
    {
     "name": "stderr",
     "output_type": "stream",
     "text": [
      "/home/this/.local/lib/python3.7/site-packages/IPython/core/interactiveshell.py:3058: DtypeWarning: Columns (2) have mixed types.Specify dtype option on import or set low_memory=False.\n",
      "  interactivity=interactivity, compiler=compiler, result=result)\n"
     ]
    }
   ],
   "source": [
    "# Importieren der Daten. \n",
    "df = pd.read_csv('daten/co2_daten_gefiltert.csv')"
   ]
  },
  {
   "cell_type": "code",
   "execution_count": 23,
   "metadata": {},
   "outputs": [
    {
     "data": {
      "text/plain": [
       "4227289"
      ]
     },
     "execution_count": 23,
     "metadata": {},
     "output_type": "execute_result"
    }
   ],
   "source": [
    "# Wie viele Fahrzeuge sind im gefilterten Datensatz verzeichnet? (Nicht enthalten sind Export-Fahrzeuge \n",
    "# sowie Einträge mit fehlenden CO2-Werten.) \n",
    "len(df)"
   ]
  },
  {
   "cell_type": "code",
   "execution_count": 24,
   "metadata": {},
   "outputs": [
    {
     "data": {
      "text/plain": [
       "Altersklasse_Halter\n",
       "00 bis 09            5\n",
       "10 bis 19        13685\n",
       "20 bis 29       330125\n",
       "30 bis 39       608594\n",
       "40 bis 49       711912\n",
       "50 bis 59       860091\n",
       "60 bis 69       596125\n",
       "70 bis 79       404904\n",
       "80 bis 89       132701\n",
       "90 und älter      8790\n",
       "unbekannt         1377\n",
       "Name: Altersklasse_Halter, dtype: int64"
      ]
     },
     "execution_count": 24,
     "metadata": {},
     "output_type": "execute_result"
    }
   ],
   "source": [
    "# Wie viele Halter sind pro Alterskategorie verzeichnet? \n",
    "df.groupby(by='Altersklasse_Halter')['Altersklasse_Halter'].count()"
   ]
  },
  {
   "cell_type": "code",
   "execution_count": 25,
   "metadata": {},
   "outputs": [
    {
     "data": {
      "text/plain": [
       "Altersklasse_Halter\n",
       "20 bis 29       155.081112\n",
       "30 bis 39       156.150580\n",
       "unbekannt       157.804648\n",
       "40 bis 49       158.668133\n",
       "60 bis 69       159.120211\n",
       "50 bis 59       159.514434\n",
       "70 bis 79       159.870078\n",
       "10 bis 19       160.837121\n",
       "80 bis 89       163.516831\n",
       "90 und älter    170.694084\n",
       "00 bis 09       177.800000\n",
       "Name: CO2, dtype: float64"
      ]
     },
     "execution_count": 25,
     "metadata": {},
     "output_type": "execute_result"
    }
   ],
   "source": [
    "# Wie hoch liegt der durchschnittliche CO2-Ausstoss bei den verschiedenen Altersgruppen?\n",
    "df.groupby(by='Altersklasse_Halter')['CO2'].mean().sort_values()"
   ]
  },
  {
   "cell_type": "code",
   "execution_count": 27,
   "metadata": {},
   "outputs": [
    {
     "data": {
      "text/plain": [
       "Altersklasse_Halter\n",
       "10 bis 19          58\n",
       "20 bis 29        3871\n",
       "30 bis 39       13931\n",
       "40 bis 49       21387\n",
       "50 bis 59       27357\n",
       "60 bis 69       21902\n",
       "70 bis 79       15134\n",
       "80 bis 89        3893\n",
       "90 und älter      200\n",
       "unbekannt          58\n",
       "Name: Treibstoff, dtype: int64"
      ]
     },
     "execution_count": 27,
     "metadata": {},
     "output_type": "execute_result"
    }
   ],
   "source": [
    "# Wie viele Elektroautos oder Hybrid-Autos gibts pro Kategorie? \n",
    "e = ['Elektrisch', 'Benzin / Elektrisch', 'Diesel / Elektrisch', 'Elektrisch mit RE (Range Extender)', \n",
    "     'Wasserstoff / Elektrisch']\n",
    "df[df['Treibstoff'].isin(e)].groupby(by='Altersklasse_Halter')['Treibstoff'].count()"
   ]
  },
  {
   "cell_type": "code",
   "execution_count": 28,
   "metadata": {},
   "outputs": [
    {
     "data": {
      "text/plain": [
       "Altersklasse_Halter\n",
       "10 bis 19         10\n",
       "20 bis 29        724\n",
       "30 bis 39       3216\n",
       "40 bis 49       5544\n",
       "50 bis 59       6432\n",
       "60 bis 69       3704\n",
       "70 bis 79       1640\n",
       "80 bis 89        327\n",
       "90 und älter      11\n",
       "unbekannt         16\n",
       "Name: Treibstoff, dtype: int64"
      ]
     },
     "execution_count": 28,
     "metadata": {},
     "output_type": "execute_result"
    }
   ],
   "source": [
    "# Wie viele reine Elektroautos gibts pro Kategorie? \n",
    "e = ['Elektrisch', 'Elektrisch mit RE (Range Extender)']\n",
    "df[df['Treibstoff'].isin(e)].groupby(by='Altersklasse_Halter')['Treibstoff'].count()"
   ]
  },
  {
   "cell_type": "code",
   "execution_count": 29,
   "metadata": {},
   "outputs": [
    {
     "data": {
      "text/plain": [
       "33134"
      ]
     },
     "execution_count": 29,
     "metadata": {},
     "output_type": "execute_result"
    }
   ],
   "source": [
    "# Wie viele Elektroautos gibts in der Schweiz?\n",
    "e = ['Elektrisch', 'Elektrisch mit RE (Range Extender)']\n",
    "len(df[df['Treibstoff'].isin(e)])"
   ]
  },
  {
   "cell_type": "code",
   "execution_count": null,
   "metadata": {},
   "outputs": [],
   "source": []
  }
 ],
 "metadata": {
  "kernelspec": {
   "display_name": "Python 3",
   "language": "python",
   "name": "python3"
  },
  "language_info": {
   "codemirror_mode": {
    "name": "ipython",
    "version": 3
   },
   "file_extension": ".py",
   "mimetype": "text/x-python",
   "name": "python",
   "nbconvert_exporter": "python",
   "pygments_lexer": "ipython3",
   "version": "3.7.5"
  }
 },
 "nbformat": 4,
 "nbformat_minor": 2
}
