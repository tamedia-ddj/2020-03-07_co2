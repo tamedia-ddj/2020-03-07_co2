{
 "cells": [
  {
   "cell_type": "markdown",
   "metadata": {},
   "source": [
    "# CO2-Ausstoss von Personenwagen\n",
    "In diesem Notebook werden Informationen des Bundesamts für Strassen aufbereitet. Der Datensatz ist sehr umfangreich. Damit trotzdem effizient damit gearbeitet werden kann, werden bloss die für unsere Fragestellungen relevanten Daten eingelesen beziehungsweise behalten. Das genaue Vorgehen kann anhand des untenstehenden Python-Codes nachvollzogen werden. Die Rohdaten sind allerdings nicht verfügbar, da diese (kostenpflichtig) beim Bundesamt für Strassen bezogen werden müssen. "
   ]
  },
  {
   "cell_type": "code",
   "execution_count": 1,
   "metadata": {},
   "outputs": [
    {
     "name": "stderr",
     "output_type": "stream",
     "text": [
      "/home/this/.local/lib/python3.7/site-packages/tqdm/std.py:658: FutureWarning: The Panel class is removed from pandas. Accessing it from the top-level namespace will also be removed in the next version\n",
      "  from pandas import Panel\n"
     ]
    }
   ],
   "source": [
    "# Importieren der nötigen Bibliotheken. \n",
    "import pandas as pd\n",
    "import numpy as np\n",
    "import os\n",
    "from tqdm.auto import tqdm\n",
    "tqdm.pandas()"
   ]
  },
  {
   "cell_type": "code",
   "execution_count": 2,
   "metadata": {},
   "outputs": [
    {
     "name": "stdout",
     "output_type": "stream",
     "text": [
      "Fahrzeugklasse\tFahrzeugart_Code\tFahrzeugart\tMarken_Code\tMarke\tMarke_und_Typ\tTyp1\tTyp2\tTyp3\tTyp4\tTypengenehmigungs-Nr\tTypengenehmigungs-Nr_Zusatz\tKarosserieform_Code\tKarosserieform\tFarbe\tFarbe_Zusatz\tSitzplätze\tSitzplätze_vorne\tStehplätze\tLeergewicht\tNutzlast\tGesamtgewicht\tGesamtzugsgewicht\tAnhängelast\tDachlast\tTankinhalt_Aufbaus\tHubraum\tZylinder\tLeistung\tMotorkennzeichen\tTreibstoff_Code\tTreibstoff\tCO2\tEmissionscode\tEnergieeffizienzkategorie\tGetriebe_Code\tGetriebe\tGetriebe_Detailcode\tAntrieb_Code\tAntrieb\tAchsen\tErstinverkehrsetzung_Jahr\tErstinverkehrsetzung_Monat\tErstinverkehrsetzung_Kanton\tErstinverkehrsetzung_Staat\tGebrauchtcode\tErsterfassung_Jahr\tErsterfassung_Monat\tSchildfarbe_Code\tSchildfarbe\tSchildart_Code\tSchildart\tInverkehrsetzung_Status_Code\tInverkehrsetzung_Kanton\tPLZ\tOrt\tBFS-Gemeinde-Nr\tStaat_Code\tStaat\tHalterart_Code\tHalterart\tAltersklasse_Halter\tBesondere_Verwendung_Code\tBesondere_Verwendung\t\r",
      "\r\n",
      "cat: Schreibfehler: Datenübergabe unterbrochen (broken pipe)\r\n"
     ]
    }
   ],
   "source": [
    "# Vor dem Import: Welche Informationen sind im Originaldatensatz vorhanden? \n",
    "!cat BEST_R-20200201.txt | head -n 1"
   ]
  },
  {
   "cell_type": "code",
   "execution_count": 3,
   "metadata": {},
   "outputs": [],
   "source": [
    "# Die für unsere Fragestellung relevanten Spalten werden ausgewählt.\n",
    "columns = ['Fahrzeugart', 'Leistung', 'Treibstoff', 'Erstinverkehrsetzung_Jahr', 'Altersklasse_Halter', \n",
    "           'Ort', 'BFS-Gemeinde-Nr', 'Halterart_Code', 'CO2', 'Staat', 'Inverkehrsetzung_Kanton']"
   ]
  },
  {
   "cell_type": "code",
   "execution_count": 16,
   "metadata": {},
   "outputs": [],
   "source": [
    "# Einlesen der Daten. \n",
    "df = pd.read_csv(\"BEST_R-20200201.txt\", sep='\\t', usecols=columns, engine='c')"
   ]
  },
  {
   "cell_type": "code",
   "execution_count": 5,
   "metadata": {},
   "outputs": [],
   "source": [
    "# Uns interessieren einzig die Personenwagen. Alle anderen Daten werden ausgefiltert.\n",
    "df = df[df['Fahrzeugart'] == 'Personenwagen'].copy()"
   ]
  },
  {
   "cell_type": "code",
   "execution_count": 6,
   "metadata": {},
   "outputs": [],
   "source": [
    "# Im Datensatz sind Autos enthalten, die für den Export bestimmt sind oder nicht auf die Strassen sollen. \n",
    "# Diese sind für uns irrelevant. Wir behalten einzig Fahrzeuge mit einem Schweizer Nummernschild.\n",
    "df = df[df['Staat'] == 'Schweiz'].copy()"
   ]
  },
  {
   "cell_type": "code",
   "execution_count": 7,
   "metadata": {},
   "outputs": [
    {
     "data": {
      "text/plain": [
       "381565"
      ]
     },
     "execution_count": 7,
     "metadata": {},
     "output_type": "execute_result"
    }
   ],
   "source": [
    "# Bei wie vielen Personenwagen fehlt eine Angabe zum CO2-Wert? \n",
    "len(df[df['CO2'].isna()])"
   ]
  },
  {
   "cell_type": "code",
   "execution_count": 8,
   "metadata": {},
   "outputs": [
    {
     "data": {
      "text/plain": [
       "8.329633117607482"
      ]
     },
     "execution_count": 8,
     "metadata": {},
     "output_type": "execute_result"
    }
   ],
   "source": [
    "# Bei wie vielen Prozent aller Autos fehlt eine Angabe zum CO2-Wert?\n",
    "100 * len(df[df['CO2'].isna()]) / len(df)"
   ]
  },
  {
   "cell_type": "code",
   "execution_count": 9,
   "metadata": {},
   "outputs": [],
   "source": [
    "# Autos, bei denen weder beim Treibstoff noch beim CO2 ein Wert erfasst sind, werden entfernt. \n",
    "df = df.dropna(subset=['Treibstoff', 'CO2'], how='all')"
   ]
  },
  {
   "cell_type": "code",
   "execution_count": 10,
   "metadata": {},
   "outputs": [],
   "source": [
    "# Verbrennungsmotoren, bei denen kein CO2-Wert vorhanden ist, werden entfernt. \n",
    "df['Treibstoff'] = df['Treibstoff'].str.strip()\n",
    "treibstoff = ['Benzin', 'Diesel', 'Methanol', 'Flüssiggas (LPG) / Benzin',\n",
    "           'Benzin / Elektrisch', 'Diesel / Elektrisch', 'Benzin / Alkohol (Ethanol)', 'Erdgas (CNG) / Benzin', \n",
    "           'Gas (CNG/GPL)', 'Flüssiggas (LPG)', 'Erdgas (CNG)', \n",
    "           'Alkohol (Ethanol)', 'Petrol']\n",
    "df = df[~((df['Treibstoff'].isin(treibstoff)) & (df['CO2'].isna()))]"
   ]
  },
  {
   "cell_type": "code",
   "execution_count": 11,
   "metadata": {},
   "outputs": [],
   "source": [
    "# Bei den übrigen Autos -- vorwiegend mit Elektroantrieb -- wird der fehlende CO2-Wert auf 0 gesetzt. \n",
    "# Damit werden diese Fahrzeuge in der Auswertung miteinbezogen. \n",
    "for i, r in df[df['CO2'].isna()].iterrows():\n",
    "    df.at[i, 'CO2'] = 0"
   ]
  },
  {
   "cell_type": "code",
   "execution_count": 12,
   "metadata": {},
   "outputs": [
    {
     "data": {
      "text/plain": [
       "2835"
      ]
     },
     "execution_count": 12,
     "metadata": {},
     "output_type": "execute_result"
    }
   ],
   "source": [
    "# In den Daten gibts diverse Einträge zu emmissionslosen Verbrennungsmotoren. Wie viele sind es? \n",
    "len(df[((df['CO2'] == 0) & ((df['Treibstoff'] == 'Benzin') | (df['Treibstoff'] == 'Diesel')))])"
   ]
  },
  {
   "cell_type": "code",
   "execution_count": 13,
   "metadata": {},
   "outputs": [],
   "source": [
    "# Verbrennungsmotoren, die kein CO2 verursachen, gibts leider nicht. Die entsprechenden Einträge werden entfernt. \n",
    "df = df[~((df['CO2'] == 0) & (df['Treibstoff'] == 'Benzin'))]\n",
    "df = df[~((df['CO2'] == 0) & (df['Treibstoff'] == 'Diesel'))]"
   ]
  },
  {
   "cell_type": "code",
   "execution_count": 14,
   "metadata": {},
   "outputs": [
    {
     "data": {
      "application/vnd.jupyter.widget-view+json": {
       "model_id": "ca977668d8064319b836c81c574f1086",
       "version_major": 2,
       "version_minor": 0
      },
      "text/plain": [
       "HBox(children=(FloatProgress(value=1.0, bar_style='info', max=1.0), HTML(value='')))"
      ]
     },
     "metadata": {},
     "output_type": "display_data"
    },
    {
     "name": "stdout",
     "output_type": "stream",
     "text": [
      "\n"
     ]
    },
    {
     "data": {
      "application/vnd.jupyter.widget-view+json": {
       "model_id": "06b67653f58e424ea0140d575363d878",
       "version_major": 2,
       "version_minor": 0
      },
      "text/plain": [
       "HBox(children=(FloatProgress(value=1.0, bar_style='info', max=1.0), HTML(value='')))"
      ]
     },
     "metadata": {},
     "output_type": "display_data"
    },
    {
     "name": "stdout",
     "output_type": "stream",
     "text": [
      "\n"
     ]
    }
   ],
   "source": [
    "# Im Datensatz sind Gemeinden enthalten, bei denen die nicht existierende Gemeindenummer 0 eingetragen wurde. \n",
    "# Wir versuchen anhand der übrigen Daten die richtigen Nummern einzutragen. \n",
    "df['BFS-Gemeinde-Nr'] = df['BFS-Gemeinde-Nr'].apply(lambda x: int(str(x).replace('\\'', '')))\n",
    "\n",
    "for i, r in tqdm(df[df['BFS-Gemeinde-Nr'] == 0].iterrows()):\n",
    "    try:\n",
    "        b = df[df['Ort'] == r['Ort']]['BFS-Gemeinde-Nr'].value_counts().tolist()[0]\n",
    "        df.at[i, 'BFS-Gemeinde-Nr'] = int(b)\n",
    "    except: \n",
    "        pass\n",
    "\n",
    "# Weitere Korrektur: Bei allen Einträgen zu Ponte Cremenaga, einem Weiler in der Gemeinde Monteggio, \n",
    "# fehlen die BfS-Nummern. \n",
    "for i, r in tqdm(df[df['Ort'].str.lower() == 'ponte cremenaga'].iterrows()):\n",
    "    df.at[i, 'BFS-Gemeinde-Nr'] = 5202"
   ]
  },
  {
   "cell_type": "code",
   "execution_count": 15,
   "metadata": {},
   "outputs": [
    {
     "data": {
      "application/vnd.jupyter.widget-view+json": {
       "model_id": "78d40d03810d4b849a1486a2eb77d70f",
       "version_major": 2,
       "version_minor": 0
      },
      "text/plain": [
       "HBox(children=(FloatProgress(value=1.0, bar_style='info', max=1.0), HTML(value='')))"
      ]
     },
     "metadata": {},
     "output_type": "display_data"
    },
    {
     "name": "stdout",
     "output_type": "stream",
     "text": [
      "\n"
     ]
    },
    {
     "data": {
      "text/html": [
       "<div>\n",
       "<style scoped>\n",
       "    .dataframe tbody tr th:only-of-type {\n",
       "        vertical-align: middle;\n",
       "    }\n",
       "\n",
       "    .dataframe tbody tr th {\n",
       "        vertical-align: top;\n",
       "    }\n",
       "\n",
       "    .dataframe thead th {\n",
       "        text-align: right;\n",
       "    }\n",
       "</style>\n",
       "<table border=\"1\" class=\"dataframe\">\n",
       "  <thead>\n",
       "    <tr style=\"text-align: right;\">\n",
       "      <th></th>\n",
       "      <th>Ort</th>\n",
       "      <th>Inverkehrsetzung_Kanton</th>\n",
       "      <th>BFS-Gemeinde-Nr</th>\n",
       "      <th>bfs_korr</th>\n",
       "    </tr>\n",
       "  </thead>\n",
       "  <tbody>\n",
       "    <tr>\n",
       "      <th>269</th>\n",
       "      <td>Lausanne</td>\n",
       "      <td>VD</td>\n",
       "      <td>27</td>\n",
       "      <td>5586.0</td>\n",
       "    </tr>\n",
       "    <tr>\n",
       "      <th>163</th>\n",
       "      <td>Embrach-Embraport</td>\n",
       "      <td>ZH</td>\n",
       "      <td>23</td>\n",
       "      <td>23.0</td>\n",
       "    </tr>\n",
       "    <tr>\n",
       "      <th>275</th>\n",
       "      <td>Le Bémont</td>\n",
       "      <td>JU</td>\n",
       "      <td>15</td>\n",
       "      <td>6741.0</td>\n",
       "    </tr>\n",
       "    <tr>\n",
       "      <th>206</th>\n",
       "      <td>Gland</td>\n",
       "      <td>VD</td>\n",
       "      <td>14</td>\n",
       "      <td>5721.0</td>\n",
       "    </tr>\n",
       "    <tr>\n",
       "      <th>582</th>\n",
       "      <td>Yverdon-les-Bains</td>\n",
       "      <td>VD</td>\n",
       "      <td>14</td>\n",
       "      <td>5938.0</td>\n",
       "    </tr>\n",
       "    <tr>\n",
       "      <th>...</th>\n",
       "      <td>...</td>\n",
       "      <td>...</td>\n",
       "      <td>...</td>\n",
       "      <td>...</td>\n",
       "    </tr>\n",
       "    <tr>\n",
       "      <th>262</th>\n",
       "      <td>La Plaine</td>\n",
       "      <td>GE</td>\n",
       "      <td>2</td>\n",
       "      <td>6620.0</td>\n",
       "    </tr>\n",
       "    <tr>\n",
       "      <th>261</th>\n",
       "      <td>La Neuveville</td>\n",
       "      <td>BE</td>\n",
       "      <td>2</td>\n",
       "      <td>723.0</td>\n",
       "    </tr>\n",
       "    <tr>\n",
       "      <th>260</th>\n",
       "      <td>La Forclaz VD</td>\n",
       "      <td>VD</td>\n",
       "      <td>2</td>\n",
       "      <td>5410.0</td>\n",
       "    </tr>\n",
       "    <tr>\n",
       "      <th>259</th>\n",
       "      <td>La Croix-de-Rozon</td>\n",
       "      <td>GE</td>\n",
       "      <td>2</td>\n",
       "      <td>6605.0</td>\n",
       "    </tr>\n",
       "    <tr>\n",
       "      <th>300</th>\n",
       "      <td>Liebefeld</td>\n",
       "      <td>BE</td>\n",
       "      <td>2</td>\n",
       "      <td>355.0</td>\n",
       "    </tr>\n",
       "  </tbody>\n",
       "</table>\n",
       "<p>601 rows × 4 columns</p>\n",
       "</div>"
      ],
      "text/plain": [
       "                   Ort Inverkehrsetzung_Kanton  BFS-Gemeinde-Nr  bfs_korr\n",
       "269           Lausanne                      VD               27    5586.0\n",
       "163  Embrach-Embraport                      ZH               23      23.0\n",
       "275          Le Bémont                      JU               15    6741.0\n",
       "206              Gland                      VD               14    5721.0\n",
       "582  Yverdon-les-Bains                      VD               14    5938.0\n",
       "..                 ...                     ...              ...       ...\n",
       "262          La Plaine                      GE                2    6620.0\n",
       "261      La Neuveville                      BE                2     723.0\n",
       "260      La Forclaz VD                      VD                2    5410.0\n",
       "259  La Croix-de-Rozon                      GE                2    6605.0\n",
       "300          Liebefeld                      BE                2     355.0\n",
       "\n",
       "[601 rows x 4 columns]"
      ]
     },
     "execution_count": 15,
     "metadata": {},
     "output_type": "execute_result"
    }
   ],
   "source": [
    "# Welchen Gemeinden sind mehrere BfS-Nummern zugeordnet? \n",
    "df_test = pd.DataFrame(df.groupby(by=['Ort', 'Inverkehrsetzung_Kanton'])['BFS-Gemeinde-Nr'].nunique())\n",
    "df_test = df_test[df_test['BFS-Gemeinde-Nr'] != 1]\n",
    "df_test = df_test.reset_index()\n",
    "\n",
    "# Eine Spalte für die korrigierte BFS-Nummer wird eingefügt. \n",
    "for i, r in tqdm(df_test.iterrows()):\n",
    "    bfs = df[(df['Ort'] == r['Ort']) & (df['Inverkehrsetzung_Kanton'] == r['Inverkehrsetzung_Kanton'])]['BFS-Gemeinde-Nr'].value_counts().index.tolist()[0]\n",
    "    df_test.at[i, 'bfs_korr'] = bfs\n",
    "    \n",
    "df_test.sort_values(by='BFS-Gemeinde-Nr', ascending=False)"
   ]
  },
  {
   "cell_type": "markdown",
   "metadata": {},
   "source": [
    "Im Datensatz existieren Gemeinden, denen mehr als eine BFS-Nummer zugeordnet wurden. Dabei scheint es sich um Fehler zu handeln. Wir können nicht beurteilen, ob das Feld mit dem Gemeindenamen oder jenes mit der BFS-Nummer korrekt ist. Deshalb verzichten wir auf einen Korrekturversuch. Als Grundlage für die Auswertungen im nächsten Notebook dienen also weitgehend die amtlich erfassten Werte."
   ]
  },
  {
   "cell_type": "code",
   "execution_count": 59,
   "metadata": {},
   "outputs": [],
   "source": [
    "# Exportieren der gefilterten Komplettdaten. \n",
    "df.to_csv('daten/co2_daten_gefiltert.csv')"
   ]
  },
  {
   "cell_type": "code",
   "execution_count": 60,
   "metadata": {},
   "outputs": [],
   "source": [
    "# Exportieren der gefilterten Daten gruppiert nach Gemeinde. \n",
    "df_export = df.groupby(by='BFS-Gemeinde-Nr').agg({'Ort': 'first', 'CO2': 'mean', 'Treibstoff': 'count'})\n",
    "df_export.columns = ['ort', 'CO2', 'anz_fahrzeuge']\n",
    "df_export.to_csv('daten/co2_daten_gefiltert_gruppiert.csv')"
   ]
  },
  {
   "cell_type": "code",
   "execution_count": null,
   "metadata": {},
   "outputs": [],
   "source": []
  }
 ],
 "metadata": {
  "kernelspec": {
   "display_name": "Python 3",
   "language": "python",
   "name": "python3"
  },
  "language_info": {
   "codemirror_mode": {
    "name": "ipython",
    "version": 3
   },
   "file_extension": ".py",
   "mimetype": "text/x-python",
   "name": "python",
   "nbconvert_exporter": "python",
   "pygments_lexer": "ipython3",
   "version": "3.7.5"
  },
  "toc": {
   "base_numbering": 1,
   "nav_menu": {},
   "number_sections": true,
   "sideBar": true,
   "skip_h1_title": true,
   "title_cell": "Inhaltsverzeichnis",
   "title_sidebar": "Inhalt",
   "toc_cell": true,
   "toc_position": {},
   "toc_section_display": true,
   "toc_window_display": false
  },
  "varInspector": {
   "cols": {
    "lenName": 16,
    "lenType": 16,
    "lenVar": 40
   },
   "kernels_config": {
    "python": {
     "delete_cmd_postfix": "",
     "delete_cmd_prefix": "del ",
     "library": "var_list.py",
     "varRefreshCmd": "print(var_dic_list())"
    },
    "r": {
     "delete_cmd_postfix": ") ",
     "delete_cmd_prefix": "rm(",
     "library": "var_list.r",
     "varRefreshCmd": "cat(var_dic_list()) "
    }
   },
   "types_to_exclude": [
    "module",
    "function",
    "builtin_function_or_method",
    "instance",
    "_Feature"
   ],
   "window_display": false
  }
 },
 "nbformat": 4,
 "nbformat_minor": 2
}
